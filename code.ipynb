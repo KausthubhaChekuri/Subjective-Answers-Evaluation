{
  "nbformat": 4,
  "nbformat_minor": 0,
  "metadata": {
    "colab": {
      "provenance": [],
      "include_colab_link": true
    },
    "kernelspec": {
      "name": "python3",
      "display_name": "Python 3"
    },
    "language_info": {
      "name": "python"
    }
  },
  "cells": [
    {
      "cell_type": "markdown",
      "metadata": {
        "id": "view-in-github",
        "colab_type": "text"
      },
      "source": [
        "<a href=\"https://colab.research.google.com/github/ToxicLattice383/Subjective-Answers-Evaluation/blob/main/code.ipynb\" target=\"_parent\"><img src=\"https://colab.research.google.com/assets/colab-badge.svg\" alt=\"Open In Colab\"/></a>"
      ]
    },
    {
      "cell_type": "code",
      "execution_count": null,
      "metadata": {
        "id": "wnf0gcfCaLKI"
      },
      "outputs": [],
      "source": [
        "import numpy as np\n",
        "import pandas as pd\n",
        "import os\n",
        "import gc\n",
        "import re\n",
        "import warnings\n",
        "import nltk\n",
        "nltk.download('stopwords')\n",
        "nltk.download('punkt')\n",
        "!pip install POT\n",
        "warnings.filterwarnings(\"ignore\")\n",
        "\n",
        "\n",
        "# Plot\n",
        "import matplotlib.pyplot as plt\n",
        "import seaborn as sns\n",
        "\n",
        "import tensorflow as tf\n",
        "import tensorflow_hub as hub\n",
        "\n",
        "from IPython.display import display\n",
        "import ipywidgets as widgets\n",
        "\n",
        "from nltk.corpus import stopwords\n",
        "from nltk.tokenize import word_tokenize\n",
        "import string\n",
        "from gensim.models import Word2Vec\n",
        "\n",
        "encoder_url = 'https://tfhub.dev/google/universal-sentence-encoder/4'  # Note that this is a 1GB Module\n",
        "encoder = hub.load(encoder_url)\n",
        "\n",
        "def embed(input):\n",
        "    return encoder(input)\n",
        "\n",
        "messages = [\"I like eating sushi because I love the texture of raw fish.\",\n",
        "    \"I believe that the movie I watched last night was exceptional and thought-provoking.\",\n",
        "\n",
        "    \"I think that pets can bring a lot of joy and companionship to people's lives.\",\n",
        "    \"Personally, I find the color blue to be calming and soothing.\",\n",
        "\n",
        "    \"I think that traveling is one of the most enriching experiences a person can have.\",\n",
        "    \"The novel I recently read was incredibly gripping and emotionally impactful.\",\n",
        "\n",
        "    \"I consider spending time in nature to be a rejuvenating and spiritually uplifting activity.\",\n",
        "    \"The concert I attended last week was absolutely phenomenal, with exceptional performances by the artists.\",\n",
        "\n",
        "    \"For me, spending quality time with loved ones is the key to happiness and fulfillment.\",\n",
        "    \"I feel that exercising regularly not only improves physical health but also boosts mental clarity and positivity.\",\n",
        "]\n",
        "\n",
        "def preprocess_text(text):\n",
        "    stop_words = set(stopwords.words('english'))\n",
        "    punctuations = set(string.punctuation)\n",
        "    return [word.lower() for word in word_tokenize(text) if word.lower() not in stop_words and word not in punctuations]\n",
        "\n",
        "corpus = [preprocess_text(doc) for doc in messages]\n",
        "\n",
        "w2v_model = Word2Vec(corpus, vector_size=100, min_count=1)\n",
        "\n",
        "def calculate_wmd_distance(doc1, doc2):\n",
        "    doc1 = preprocess_text(doc1)\n",
        "    doc2 = preprocess_text(doc2)\n",
        "    return w2v_model.wv.wmdistance(doc1, doc2)\n",
        "\n",
        "def plot_similarity(labels, features, rotation):\n",
        "    corr = np.inner(features, features)\n",
        "    sns.set(font_scale=1.2)\n",
        "    plt.figure(figsize=(10, 10))\n",
        "    g = sns.heatmap(corr, xticklabels=labels, yticklabels=labels,\n",
        "                    vmin=0, vmax=1, cmap='coolwarm', robust=True, cbar=False, square=True, annot=True)\n",
        "    g.set_xticklabels(labels, rotation=rotation)\n",
        "    g.set_title(\"Semantic Similarity\", fontsize=25)\n",
        "\n",
        "def run_and_plot(messages_):\n",
        "    message_embeddings_ = embed(messages_)\n",
        "    plot_similarity(messages_, message_embeddings_, 90)\n",
        "\n",
        "def on_button_click(b):\n",
        "    selected_messages = [dropdown1.value, dropdown2.value]\n",
        "    wmd_distance = calculate_wmd_distance(selected_messages[0], selected_messages[1])\n",
        "    print(\"Word Mover's Distance: {:.4f}\".format(wmd_distance))\n",
        "    run_and_plot(selected_messages)\n",
        "\n",
        "dropdown1 = widgets.Dropdown(options=messages, description='Message 1')\n",
        "dropdown2 = widgets.Dropdown(options=messages, description='Message 2')\n",
        "button = widgets.Button(description='Run')\n",
        "button.on_click(on_button_click)\n",
        "display(dropdown1)\n",
        "display(dropdown2)\n",
        "display(button)\n"
      ]
    }
  ]
}